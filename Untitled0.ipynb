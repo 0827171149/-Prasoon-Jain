{
  "nbformat": 4,
  "nbformat_minor": 0,
  "metadata": {
    "colab": {
      "name": "Untitled0.ipynb",
      "provenance": [],
      "authorship_tag": "ABX9TyN3p2/GFeTZrVyt/LjgbuDE",
      "include_colab_link": true
    },
    "kernelspec": {
      "name": "python3",
      "display_name": "Python 3"
    }
  },
  "cells": [
    {
      "cell_type": "markdown",
      "metadata": {
        "id": "view-in-github",
        "colab_type": "text"
      },
      "source": [
        "<a href=\"https://colab.research.google.com/github/0827171149/-Prasoon-Jain/blob/master/Untitled0.ipynb\" target=\"_parent\"><img src=\"https://colab.research.google.com/assets/colab-badge.svg\" alt=\"Open In Colab\"/></a>"
      ]
    },
    {
      "cell_type": "code",
      "metadata": {
        "id": "UTb_Z3lDz6cu",
        "colab_type": "code",
        "colab": {}
      },
      "source": [
        " \n",
        "class Perceptron(object):\n",
        "    \"\"\"Implements a perceptron network\"\"\"\n",
        "    def __init__(self, input_size, lr=1, epochs=10):\n",
        "        self.W = np.zeros(input_size+1)\n",
        "        # add one for bias\n",
        "        self.epochs = epochs\n",
        "        self.lr = lr\n",
        "    \n",
        "    def activation_fn(self, x):\n",
        "        #return (x >= 0).astype(np.float32)\n",
        "        return 1 if x >= 0 else 0\n",
        " \n",
        "    def predict(self, x):\n",
        "        z = self.W.T.dot(x)\n",
        "        \n",
        "        print(z)\n",
        "        a = self.activation_fn(z)\n",
        "        return a\n",
        " \n",
        "    def fit(self, X, d):\n",
        "        for _ in range(self.epochs):\n",
        "            for i in range(d.shape[0]):\n",
        "                x = np.insert(X[i], 0, 1)\n",
        "                y = self.predict(x)\n",
        "                e = d[i] - y\n",
        "                self.W = self.W + self.lr * e * x"
      ],
      "execution_count": 0,
      "outputs": []
    },
    {
      "cell_type": "code",
      "metadata": {
        "id": "yApR4Nms1KXz",
        "colab_type": "code",
        "colab": {
          "base_uri": "https://localhost:8080/",
          "height": 714
        },
        "outputId": "3c824892-0fbf-4e3b-8744-49f65c06826b"
      },
      "source": [
        "if __name__ == '__main__':\n",
        "    X = np.array([\n",
        "        [0, 0],\n",
        "        [0, 1],\n",
        "        [1, 0],\n",
        "        [1, 1]\n",
        "    ])\n",
        "    d = np.array([0, 0, 0, 1])\n",
        " \n",
        "    perceptron = Perceptron(input_size=2)\n",
        "    perceptron.fit(X, d)\n",
        "    print(perceptron.W)"
      ],
      "execution_count": 26,
      "outputs": [
        {
          "output_type": "stream",
          "text": [
            "0.0\n",
            "-1.0\n",
            "-1.0\n",
            "-1.0\n",
            "0.0\n",
            "0.0\n",
            "-1.0\n",
            "-1.0\n",
            "-1.0\n",
            "0.0\n",
            "0.0\n",
            "-2.0\n",
            "-2.0\n",
            "-1.0\n",
            "0.0\n",
            "-1.0\n",
            "-2.0\n",
            "0.0\n",
            "-1.0\n",
            "0.0\n",
            "-3.0\n",
            "-2.0\n",
            "-1.0\n",
            "0.0\n",
            "-3.0\n",
            "-2.0\n",
            "-1.0\n",
            "0.0\n",
            "-3.0\n",
            "-2.0\n",
            "-1.0\n",
            "0.0\n",
            "-3.0\n",
            "-2.0\n",
            "-1.0\n",
            "0.0\n",
            "-3.0\n",
            "-2.0\n",
            "-1.0\n",
            "0.0\n",
            "[-3.  2.  1.]\n"
          ],
          "name": "stdout"
        }
      ]
    }
  ]
}