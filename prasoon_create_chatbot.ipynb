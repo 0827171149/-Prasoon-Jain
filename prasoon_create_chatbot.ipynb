{
  "nbformat": 4,
  "nbformat_minor": 0,
  "metadata": {
    "colab": {
      "name": "prasoon create chatbot.ipynb",
      "provenance": [],
      "authorship_tag": "ABX9TyNFu9/ZT/EIbjqFCArTA/dH",
      "include_colab_link": true
    },
    "kernelspec": {
      "name": "python3",
      "display_name": "Python 3"
    }
  },
  "cells": [
    {
      "cell_type": "markdown",
      "metadata": {
        "id": "view-in-github",
        "colab_type": "text"
      },
      "source": [
        "<a href=\"https://colab.research.google.com/github/0827171149/-Prasoon-Jain/blob/master/prasoon_create_chatbot.ipynb\" target=\"_parent\"><img src=\"https://colab.research.google.com/assets/colab-badge.svg\" alt=\"Open In Colab\"/></a>"
      ]
    },
    {
      "cell_type": "code",
      "metadata": {
        "id": "CG3h8cwRVxG2",
        "colab_type": "code",
        "colab": {}
      },
      "source": [
        "from tkinter import *\n",
        "from PIL import Image, ImageTk\n",
        "master = Tk()\n",
        "def ask(query):\n",
        "    print(\"hello\")\n",
        "\n",
        "master.title(\"ChatBot\")\n",
        "master.geometry(\"500x650\")\n",
        "load = Image.open(\"logo.jpg\")\n",
        "render = ImageTk.PhotoImage(load)\n",
        "img = Label(master, image=render)\n",
        "img.image = render\n",
        "img.place(x=0, y=0)\n",
        "frame=Frame(master)\n",
        "sc=Scrollbar(frame)\n",
        "msg=Listbox(frame, width=80, height=20)\n",
        "sc.pack(side=RIGHT, fill=Y)\n",
        "msg.pack(side=LEFT, fill=BOTH, pady=10)\n",
        "frame.pack()\n",
        "textF=Entry(master, font=(\"Verdana\", 20))\n",
        "textF.pack(pady=10)\n",
        "button =Button(master,\n",
        "                   text=\"ASK\",\n",
        "                   fg=\"red\",\n",
        "                   command=ask)\n",
        "button.pack()\n",
        "# Run forever!\n",
        "master.mainloop()"
      ],
      "execution_count": 0,
      "outputs": []
    }
  ]
}